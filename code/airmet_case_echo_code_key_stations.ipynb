{
 "cells": [
  {
   "cell_type": "code",
   "execution_count": 2,
   "metadata": {},
   "outputs": [],
   "source": [
    "# Libraries\n",
    "import pandas as pd\n",
    "import numpy as np\n",
    "import matplotlib.pyplot as plt"
   ]
  },
  {
   "cell_type": "code",
   "execution_count": 3,
   "metadata": {},
   "outputs": [
    {
     "data": {
      "text/plain": [
       "'/Users/anna/Desktop/AIRMET_CASE_ECHO'"
      ]
     },
     "execution_count": 3,
     "metadata": {},
     "output_type": "execute_result"
    }
   ],
   "source": [
    "pwd"
   ]
  },
  {
   "cell_type": "markdown",
   "metadata": {},
   "source": [
    "### DATABASES FROM BIG QUERY"
   ]
  },
  {
   "cell_type": "markdown",
   "metadata": {},
   "source": [
    "### GOAL 2: DEFINE KEY DOCKING STATIONS FOR CAMPAIGN\n",
    "\n",
    "#### 2.A.DEFINE STATIONS WITH HIGHER TOUCHPOINT VOLUME\n"
   ]
  },
  {
   "cell_type": "code",
   "execution_count": 61,
   "metadata": {},
   "outputs": [
    {
     "data": {
      "text/html": [
       "<div>\n",
       "<style scoped>\n",
       "    .dataframe tbody tr th:only-of-type {\n",
       "        vertical-align: middle;\n",
       "    }\n",
       "\n",
       "    .dataframe tbody tr th {\n",
       "        vertical-align: top;\n",
       "    }\n",
       "\n",
       "    .dataframe thead th {\n",
       "        text-align: right;\n",
       "    }\n",
       "</style>\n",
       "<table border=\"1\" class=\"dataframe\">\n",
       "  <thead>\n",
       "    <tr style=\"text-align: right;\">\n",
       "      <th></th>\n",
       "      <th>date_day</th>\n",
       "      <th>start_station_id</th>\n",
       "      <th>count_rental_ids</th>\n",
       "    </tr>\n",
       "  </thead>\n",
       "  <tbody>\n",
       "    <tr>\n",
       "      <th>0</th>\n",
       "      <td>2017-02-19</td>\n",
       "      <td>332.0</td>\n",
       "      <td>4</td>\n",
       "    </tr>\n",
       "    <tr>\n",
       "      <th>1</th>\n",
       "      <td>2015-07-30</td>\n",
       "      <td>242.0</td>\n",
       "      <td>6</td>\n",
       "    </tr>\n",
       "    <tr>\n",
       "      <th>2</th>\n",
       "      <td>2015-11-23</td>\n",
       "      <td>14.0</td>\n",
       "      <td>4</td>\n",
       "    </tr>\n",
       "    <tr>\n",
       "      <th>3</th>\n",
       "      <td>2015-06-16</td>\n",
       "      <td>154.0</td>\n",
       "      <td>4</td>\n",
       "    </tr>\n",
       "    <tr>\n",
       "      <th>4</th>\n",
       "      <td>2015-07-23</td>\n",
       "      <td>407.0</td>\n",
       "      <td>5</td>\n",
       "    </tr>\n",
       "  </tbody>\n",
       "</table>\n",
       "</div>"
      ],
      "text/plain": [
       "     date_day  start_station_id  count_rental_ids\n",
       "0  2017-02-19             332.0                 4\n",
       "1  2015-07-30             242.0                 6\n",
       "2  2015-11-23              14.0                 4\n",
       "3  2015-06-16             154.0                 4\n",
       "4  2015-07-23             407.0                 5"
      ]
     },
     "execution_count": 61,
     "metadata": {},
     "output_type": "execute_result"
    }
   ],
   "source": [
    "# Let´s import the data - for Start Stations\n",
    "\n",
    "start_stations = pd.read_csv('/Users/anna/Desktop/AIRMET_CASE_ECHO/data/start_date_start_station.csv')\n",
    "\n",
    "\n",
    "# Let´s change the column names to a relavant names\n",
    "\n",
    "start_stations.columns = ['date_day','start_station_id','count_rental_ids']\n",
    "start_stations.head()"
   ]
  },
  {
   "cell_type": "code",
   "execution_count": 62,
   "metadata": {},
   "outputs": [],
   "source": [
    "# In order to not be extremely granular in our predicitons, and save some processing time,\n",
    "# we will aggregate the data on a weekly basis"
   ]
  },
  {
   "cell_type": "code",
   "execution_count": 63,
   "metadata": {},
   "outputs": [],
   "source": [
    "start_stations['date_day'] =  pd.to_datetime(start_stations['date_day'], format='%Y-%m-%d')"
   ]
  },
  {
   "cell_type": "code",
   "execution_count": 64,
   "metadata": {},
   "outputs": [],
   "source": [
    "start_stations[\"Day_of_Week\"] = start_stations['date_day'].dt.weekday"
   ]
  },
  {
   "cell_type": "code",
   "execution_count": 65,
   "metadata": {},
   "outputs": [
    {
     "data": {
      "text/html": [
       "<div>\n",
       "<style scoped>\n",
       "    .dataframe tbody tr th:only-of-type {\n",
       "        vertical-align: middle;\n",
       "    }\n",
       "\n",
       "    .dataframe tbody tr th {\n",
       "        vertical-align: top;\n",
       "    }\n",
       "\n",
       "    .dataframe thead th {\n",
       "        text-align: right;\n",
       "    }\n",
       "</style>\n",
       "<table border=\"1\" class=\"dataframe\">\n",
       "  <thead>\n",
       "    <tr style=\"text-align: right;\">\n",
       "      <th></th>\n",
       "      <th>date_day</th>\n",
       "      <th>start_station_id</th>\n",
       "      <th>count_rental_ids</th>\n",
       "      <th>Day_of_Week</th>\n",
       "    </tr>\n",
       "  </thead>\n",
       "  <tbody>\n",
       "    <tr>\n",
       "      <th>0</th>\n",
       "      <td>2017-02-19</td>\n",
       "      <td>332.0</td>\n",
       "      <td>4</td>\n",
       "      <td>6</td>\n",
       "    </tr>\n",
       "    <tr>\n",
       "      <th>1</th>\n",
       "      <td>2015-07-30</td>\n",
       "      <td>242.0</td>\n",
       "      <td>6</td>\n",
       "      <td>3</td>\n",
       "    </tr>\n",
       "    <tr>\n",
       "      <th>2</th>\n",
       "      <td>2015-11-23</td>\n",
       "      <td>14.0</td>\n",
       "      <td>4</td>\n",
       "      <td>0</td>\n",
       "    </tr>\n",
       "    <tr>\n",
       "      <th>3</th>\n",
       "      <td>2015-06-16</td>\n",
       "      <td>154.0</td>\n",
       "      <td>4</td>\n",
       "      <td>1</td>\n",
       "    </tr>\n",
       "    <tr>\n",
       "      <th>4</th>\n",
       "      <td>2015-07-23</td>\n",
       "      <td>407.0</td>\n",
       "      <td>5</td>\n",
       "      <td>3</td>\n",
       "    </tr>\n",
       "  </tbody>\n",
       "</table>\n",
       "</div>"
      ],
      "text/plain": [
       "    date_day  start_station_id  count_rental_ids  Day_of_Week\n",
       "0 2017-02-19             332.0                 4            6\n",
       "1 2015-07-30             242.0                 6            3\n",
       "2 2015-11-23              14.0                 4            0\n",
       "3 2015-06-16             154.0                 4            1\n",
       "4 2015-07-23             407.0                 5            3"
      ]
     },
     "execution_count": 65,
     "metadata": {},
     "output_type": "execute_result"
    }
   ],
   "source": [
    "start_stations.head()"
   ]
  },
  {
   "cell_type": "code",
   "execution_count": 66,
   "metadata": {},
   "outputs": [],
   "source": [
    "from datetime import datetime, timedelta "
   ]
  },
  {
   "cell_type": "code",
   "execution_count": 67,
   "metadata": {},
   "outputs": [],
   "source": [
    "start_stations[\"First_day_of_the_week\"] = start_stations.apply(lambda x: x['date_day'] - timedelta(days=x['Day_of_Week']), axis=1)"
   ]
  },
  {
   "cell_type": "code",
   "execution_count": 68,
   "metadata": {},
   "outputs": [],
   "source": [
    "# Let's first aggregate the dataset with start date, station_id and count of rentals\n",
    "# by week\n",
    "\n",
    "rentals_by_week_stations=start_stations.groupby(['start_station_id','First_day_of_the_week',]).sum()"
   ]
  },
  {
   "cell_type": "code",
   "execution_count": 69,
   "metadata": {},
   "outputs": [],
   "source": [
    "# Let´s validate that stations have seasonality"
   ]
  },
  {
   "cell_type": "code",
   "execution_count": 70,
   "metadata": {},
   "outputs": [],
   "source": [
    "rentals_by_week_stations =rentals_by_week_stations.drop(['Day_of_Week'],axis =1)"
   ]
  },
  {
   "cell_type": "code",
   "execution_count": 71,
   "metadata": {},
   "outputs": [
    {
     "data": {
      "text/html": [
       "<div>\n",
       "<style scoped>\n",
       "    .dataframe tbody tr th:only-of-type {\n",
       "        vertical-align: middle;\n",
       "    }\n",
       "\n",
       "    .dataframe tbody tr th {\n",
       "        vertical-align: top;\n",
       "    }\n",
       "\n",
       "    .dataframe thead th {\n",
       "        text-align: right;\n",
       "    }\n",
       "</style>\n",
       "<table border=\"1\" class=\"dataframe\">\n",
       "  <thead>\n",
       "    <tr style=\"text-align: right;\">\n",
       "      <th></th>\n",
       "      <th></th>\n",
       "      <th>count_rental_ids</th>\n",
       "    </tr>\n",
       "    <tr>\n",
       "      <th>start_station_id</th>\n",
       "      <th>First_day_of_the_week</th>\n",
       "      <th></th>\n",
       "    </tr>\n",
       "  </thead>\n",
       "  <tbody>\n",
       "    <tr>\n",
       "      <th rowspan=\"5\" valign=\"top\">1.0</th>\n",
       "      <th>2014-12-29</th>\n",
       "      <td>9</td>\n",
       "    </tr>\n",
       "    <tr>\n",
       "      <th>2015-01-05</th>\n",
       "      <td>108</td>\n",
       "    </tr>\n",
       "    <tr>\n",
       "      <th>2015-01-12</th>\n",
       "      <td>124</td>\n",
       "    </tr>\n",
       "    <tr>\n",
       "      <th>2015-01-19</th>\n",
       "      <td>125</td>\n",
       "    </tr>\n",
       "    <tr>\n",
       "      <th>2015-01-26</th>\n",
       "      <td>120</td>\n",
       "    </tr>\n",
       "  </tbody>\n",
       "</table>\n",
       "</div>"
      ],
      "text/plain": [
       "                                        count_rental_ids\n",
       "start_station_id First_day_of_the_week                  \n",
       "1.0              2014-12-29                            9\n",
       "                 2015-01-05                          108\n",
       "                 2015-01-12                          124\n",
       "                 2015-01-19                          125\n",
       "                 2015-01-26                          120"
      ]
     },
     "execution_count": 71,
     "metadata": {},
     "output_type": "execute_result"
    }
   ],
   "source": [
    "rentals_by_week_stations.head()"
   ]
  },
  {
   "cell_type": "code",
   "execution_count": 72,
   "metadata": {},
   "outputs": [],
   "source": [
    "# let´s export the table to a csv\n",
    "rentals_by_week_stations.to_csv(r'/Users/anna/Desktop/AIRMET_CASE_ECHO/tableau_data/rentals_by_week_stations.csv')"
   ]
  },
  {
   "cell_type": "code",
   "execution_count": 40,
   "metadata": {},
   "outputs": [],
   "source": [
    "rentals_by_stations =rentals_by_week_stations.groupby(['start_station_id']).sum()"
   ]
  },
  {
   "cell_type": "code",
   "execution_count": 44,
   "metadata": {},
   "outputs": [],
   "source": [
    "rentals_by_stations.sort_values('count_rental_ids').ascending=False"
   ]
  },
  {
   "cell_type": "code",
   "execution_count": 49,
   "metadata": {},
   "outputs": [],
   "source": [
    "f_rentals_by_station = rentals_by_stations.sort_values(by=['count_rental_ids'], ascending=False)"
   ]
  },
  {
   "cell_type": "code",
   "execution_count": 52,
   "metadata": {},
   "outputs": [
    {
     "data": {
      "text/html": [
       "<div>\n",
       "<style scoped>\n",
       "    .dataframe tbody tr th:only-of-type {\n",
       "        vertical-align: middle;\n",
       "    }\n",
       "\n",
       "    .dataframe tbody tr th {\n",
       "        vertical-align: top;\n",
       "    }\n",
       "\n",
       "    .dataframe thead th {\n",
       "        text-align: right;\n",
       "    }\n",
       "</style>\n",
       "<table border=\"1\" class=\"dataframe\">\n",
       "  <thead>\n",
       "    <tr style=\"text-align: right;\">\n",
       "      <th></th>\n",
       "      <th>count_rental_ids</th>\n",
       "    </tr>\n",
       "    <tr>\n",
       "      <th>start_station_id</th>\n",
       "      <th></th>\n",
       "    </tr>\n",
       "  </thead>\n",
       "  <tbody>\n",
       "    <tr>\n",
       "      <th>14.0</th>\n",
       "      <td>232495</td>\n",
       "    </tr>\n",
       "    <tr>\n",
       "      <th>191.0</th>\n",
       "      <td>213568</td>\n",
       "    </tr>\n",
       "    <tr>\n",
       "      <th>154.0</th>\n",
       "      <td>199962</td>\n",
       "    </tr>\n",
       "    <tr>\n",
       "      <th>307.0</th>\n",
       "      <td>160507</td>\n",
       "    </tr>\n",
       "    <tr>\n",
       "      <th>303.0</th>\n",
       "      <td>153863</td>\n",
       "    </tr>\n",
       "  </tbody>\n",
       "</table>\n",
       "</div>"
      ],
      "text/plain": [
       "                  count_rental_ids\n",
       "start_station_id                  \n",
       "14.0                        232495\n",
       "191.0                       213568\n",
       "154.0                       199962\n",
       "307.0                       160507\n",
       "303.0                       153863"
      ]
     },
     "execution_count": 52,
     "metadata": {},
     "output_type": "execute_result"
    }
   ],
   "source": [
    "# Let´s look at the TOP5 Stations by volume of rentals\n",
    "f_rentals_by_station.head(5)"
   ]
  },
  {
   "cell_type": "code",
   "execution_count": 56,
   "metadata": {},
   "outputs": [
    {
     "data": {
      "text/plain": [
       "Index(['count_rental_ids'], dtype='object')"
      ]
     },
     "execution_count": 56,
     "metadata": {},
     "output_type": "execute_result"
    }
   ],
   "source": [
    "f_rentals_by_station.columns"
   ]
  },
  {
   "cell_type": "code",
   "execution_count": 73,
   "metadata": {},
   "outputs": [],
   "source": [
    "# let´s export the table to a csv\n",
    "rentals_by_week_stations.to_csv(r'/Users/anna/Desktop/AIRMET_CASE_ECHO/tableau_data/rentals_by_week_stations.csv')"
   ]
  },
  {
   "cell_type": "code",
   "execution_count": 6,
   "metadata": {},
   "outputs": [],
   "source": [
    "# We will first add the initial 2 tables to understand volumes\n",
    "# of touchpoints by stations (adding start & end station data)"
   ]
  },
  {
   "cell_type": "code",
   "execution_count": 7,
   "metadata": {},
   "outputs": [],
   "source": [
    "# To do so, we will create a common field including date & station id"
   ]
  },
  {
   "cell_type": "code",
   "execution_count": 4,
   "metadata": {},
   "outputs": [
    {
     "data": {
      "text/html": [
       "<div>\n",
       "<style scoped>\n",
       "    .dataframe tbody tr th:only-of-type {\n",
       "        vertical-align: middle;\n",
       "    }\n",
       "\n",
       "    .dataframe tbody tr th {\n",
       "        vertical-align: top;\n",
       "    }\n",
       "\n",
       "    .dataframe thead th {\n",
       "        text-align: right;\n",
       "    }\n",
       "</style>\n",
       "<table border=\"1\" class=\"dataframe\">\n",
       "  <thead>\n",
       "    <tr style=\"text-align: right;\">\n",
       "      <th></th>\n",
       "      <th>date</th>\n",
       "      <th>station_id</th>\n",
       "      <th>count_rental_ids</th>\n",
       "    </tr>\n",
       "  </thead>\n",
       "  <tbody>\n",
       "    <tr>\n",
       "      <th>0</th>\n",
       "      <td>2017-02-19</td>\n",
       "      <td>332.0</td>\n",
       "      <td>4</td>\n",
       "    </tr>\n",
       "    <tr>\n",
       "      <th>1</th>\n",
       "      <td>2015-07-30</td>\n",
       "      <td>242.0</td>\n",
       "      <td>6</td>\n",
       "    </tr>\n",
       "    <tr>\n",
       "      <th>2</th>\n",
       "      <td>2015-11-23</td>\n",
       "      <td>14.0</td>\n",
       "      <td>4</td>\n",
       "    </tr>\n",
       "    <tr>\n",
       "      <th>3</th>\n",
       "      <td>2015-06-16</td>\n",
       "      <td>154.0</td>\n",
       "      <td>4</td>\n",
       "    </tr>\n",
       "    <tr>\n",
       "      <th>4</th>\n",
       "      <td>2015-07-23</td>\n",
       "      <td>407.0</td>\n",
       "      <td>5</td>\n",
       "    </tr>\n",
       "  </tbody>\n",
       "</table>\n",
       "</div>"
      ],
      "text/plain": [
       "         date  station_id  count_rental_ids\n",
       "0  2017-02-19       332.0                 4\n",
       "1  2015-07-30       242.0                 6\n",
       "2  2015-11-23        14.0                 4\n",
       "3  2015-06-16       154.0                 4\n",
       "4  2015-07-23       407.0                 5"
      ]
     },
     "execution_count": 4,
     "metadata": {},
     "output_type": "execute_result"
    }
   ],
   "source": [
    "# Let´s import the data - for Start Stations\n",
    "\n",
    "start_stations_2 = pd.read_csv('/Users/anna/Desktop/AIRMET_CASE_ECHO/data/start_date_start_station.csv')\n",
    "\n",
    "\n",
    "# Let´s change the column names to a relavant names\n",
    "\n",
    "start_stations_2.columns = ['date','station_id','count_rental_ids']\n",
    "start_stations_2.head()"
   ]
  },
  {
   "cell_type": "code",
   "execution_count": 5,
   "metadata": {},
   "outputs": [],
   "source": [
    "start_stations_2['date'] =  pd.to_datetime(start_stations_2['date'], format='%Y-%m-%d')"
   ]
  },
  {
   "cell_type": "code",
   "execution_count": 6,
   "metadata": {},
   "outputs": [],
   "source": [
    "july = start_stations_2['date'].map(lambda x: x.month)==7"
   ]
  },
  {
   "cell_type": "code",
   "execution_count": 7,
   "metadata": {},
   "outputs": [],
   "source": [
    "aug = start_stations_2['date'].map(lambda x: x.month)==8"
   ]
  },
  {
   "cell_type": "code",
   "execution_count": 8,
   "metadata": {},
   "outputs": [],
   "source": [
    "start_stations_july = start_stations_2[july]"
   ]
  },
  {
   "cell_type": "code",
   "execution_count": 9,
   "metadata": {},
   "outputs": [],
   "source": [
    "start_stations_aug = start_stations_2[aug]"
   ]
  },
  {
   "cell_type": "code",
   "execution_count": 10,
   "metadata": {},
   "outputs": [],
   "source": [
    "start_stations_peak = pd.concat([start_stations_july,start_stations_aug])"
   ]
  },
  {
   "cell_type": "code",
   "execution_count": 22,
   "metadata": {
    "scrolled": true
   },
   "outputs": [
    {
     "data": {
      "text/html": [
       "<div>\n",
       "<style scoped>\n",
       "    .dataframe tbody tr th:only-of-type {\n",
       "        vertical-align: middle;\n",
       "    }\n",
       "\n",
       "    .dataframe tbody tr th {\n",
       "        vertical-align: top;\n",
       "    }\n",
       "\n",
       "    .dataframe thead th {\n",
       "        text-align: right;\n",
       "    }\n",
       "</style>\n",
       "<table border=\"1\" class=\"dataframe\">\n",
       "  <thead>\n",
       "    <tr style=\"text-align: right;\">\n",
       "      <th></th>\n",
       "      <th>date</th>\n",
       "      <th>station_id</th>\n",
       "      <th>count_rental_ids</th>\n",
       "      <th>date_str</th>\n",
       "    </tr>\n",
       "  </thead>\n",
       "  <tbody>\n",
       "    <tr>\n",
       "      <th>21140628</th>\n",
       "      <td>2016-08-29</td>\n",
       "      <td>354.0</td>\n",
       "      <td>3</td>\n",
       "      <td>2016-08-29</td>\n",
       "    </tr>\n",
       "    <tr>\n",
       "      <th>21140631</th>\n",
       "      <td>2016-08-13</td>\n",
       "      <td>10.0</td>\n",
       "      <td>3</td>\n",
       "      <td>2016-08-13</td>\n",
       "    </tr>\n",
       "    <tr>\n",
       "      <th>21140633</th>\n",
       "      <td>2016-08-24</td>\n",
       "      <td>406.0</td>\n",
       "      <td>3</td>\n",
       "      <td>2016-08-24</td>\n",
       "    </tr>\n",
       "    <tr>\n",
       "      <th>21140635</th>\n",
       "      <td>2016-08-28</td>\n",
       "      <td>785.0</td>\n",
       "      <td>3</td>\n",
       "      <td>2016-08-28</td>\n",
       "    </tr>\n",
       "    <tr>\n",
       "      <th>21140639</th>\n",
       "      <td>2015-08-12</td>\n",
       "      <td>307.0</td>\n",
       "      <td>3</td>\n",
       "      <td>2015-08-12</td>\n",
       "    </tr>\n",
       "  </tbody>\n",
       "</table>\n",
       "</div>"
      ],
      "text/plain": [
       "               date  station_id  count_rental_ids    date_str\n",
       "21140628 2016-08-29       354.0                 3  2016-08-29\n",
       "21140631 2016-08-13        10.0                 3  2016-08-13\n",
       "21140633 2016-08-24       406.0                 3  2016-08-24\n",
       "21140635 2016-08-28       785.0                 3  2016-08-28\n",
       "21140639 2015-08-12       307.0                 3  2015-08-12"
      ]
     },
     "execution_count": 22,
     "metadata": {},
     "output_type": "execute_result"
    }
   ],
   "source": [
    "start_stations_peak.tail()"
   ]
  },
  {
   "cell_type": "code",
   "execution_count": 23,
   "metadata": {},
   "outputs": [
    {
     "data": {
      "text/html": [
       "<div>\n",
       "<style scoped>\n",
       "    .dataframe tbody tr th:only-of-type {\n",
       "        vertical-align: middle;\n",
       "    }\n",
       "\n",
       "    .dataframe tbody tr th {\n",
       "        vertical-align: top;\n",
       "    }\n",
       "\n",
       "    .dataframe thead th {\n",
       "        text-align: right;\n",
       "    }\n",
       "</style>\n",
       "<table border=\"1\" class=\"dataframe\">\n",
       "  <thead>\n",
       "    <tr style=\"text-align: right;\">\n",
       "      <th></th>\n",
       "      <th>date</th>\n",
       "      <th>station_id</th>\n",
       "      <th>count_rental_ids</th>\n",
       "    </tr>\n",
       "  </thead>\n",
       "  <tbody>\n",
       "    <tr>\n",
       "      <th>0</th>\n",
       "      <td>2016-11-17</td>\n",
       "      <td>14.0</td>\n",
       "      <td>4</td>\n",
       "    </tr>\n",
       "    <tr>\n",
       "      <th>1</th>\n",
       "      <td>2016-03-27</td>\n",
       "      <td>407.0</td>\n",
       "      <td>9</td>\n",
       "    </tr>\n",
       "    <tr>\n",
       "      <th>2</th>\n",
       "      <td>2016-12-25</td>\n",
       "      <td>191.0</td>\n",
       "      <td>4</td>\n",
       "    </tr>\n",
       "    <tr>\n",
       "      <th>3</th>\n",
       "      <td>2017-02-18</td>\n",
       "      <td>376.0</td>\n",
       "      <td>4</td>\n",
       "    </tr>\n",
       "    <tr>\n",
       "      <th>4</th>\n",
       "      <td>2016-01-28</td>\n",
       "      <td>14.0</td>\n",
       "      <td>5</td>\n",
       "    </tr>\n",
       "  </tbody>\n",
       "</table>\n",
       "</div>"
      ],
      "text/plain": [
       "         date  station_id  count_rental_ids\n",
       "0  2016-11-17        14.0                 4\n",
       "1  2016-03-27       407.0                 9\n",
       "2  2016-12-25       191.0                 4\n",
       "3  2017-02-18       376.0                 4\n",
       "4  2016-01-28        14.0                 5"
      ]
     },
     "execution_count": 23,
     "metadata": {},
     "output_type": "execute_result"
    }
   ],
   "source": [
    "# Let´s import the data - for End Stations\n",
    "\n",
    "end_stations_2 = pd.read_csv('/Users/anna/Desktop/AIRMET_CASE_ECHO/data/start_date_end_station.csv')\n",
    "\n",
    "\n",
    "# Let´s change the column names to a relavant names\n",
    "\n",
    "end_stations_2.columns = ['date','station_id','count_rental_ids']\n",
    "end_stations_2.head()"
   ]
  },
  {
   "cell_type": "code",
   "execution_count": 24,
   "metadata": {},
   "outputs": [],
   "source": [
    "end_stations_2['date'] =  pd.to_datetime(end_stations_2['date'], format='%Y-%m-%d')"
   ]
  },
  {
   "cell_type": "code",
   "execution_count": 25,
   "metadata": {},
   "outputs": [],
   "source": [
    "july_end = end_stations_2['date'].map(lambda x: x.month)==7"
   ]
  },
  {
   "cell_type": "code",
   "execution_count": 26,
   "metadata": {},
   "outputs": [],
   "source": [
    "aug_end = end_stations_2['date'].map(lambda x: x.month)==8"
   ]
  },
  {
   "cell_type": "code",
   "execution_count": 27,
   "metadata": {},
   "outputs": [],
   "source": [
    "end_stations_july = end_stations_2[july_end]"
   ]
  },
  {
   "cell_type": "code",
   "execution_count": 28,
   "metadata": {},
   "outputs": [],
   "source": [
    "end_stations_aug = end_stations_2[aug_end]"
   ]
  },
  {
   "cell_type": "code",
   "execution_count": 29,
   "metadata": {},
   "outputs": [],
   "source": [
    "end_stations_peak = pd.concat([end_stations_july,end_stations_aug])"
   ]
  },
  {
   "cell_type": "code",
   "execution_count": 30,
   "metadata": {},
   "outputs": [
    {
     "data": {
      "text/html": [
       "<div>\n",
       "<style scoped>\n",
       "    .dataframe tbody tr th:only-of-type {\n",
       "        vertical-align: middle;\n",
       "    }\n",
       "\n",
       "    .dataframe tbody tr th {\n",
       "        vertical-align: top;\n",
       "    }\n",
       "\n",
       "    .dataframe thead th {\n",
       "        text-align: right;\n",
       "    }\n",
       "</style>\n",
       "<table border=\"1\" class=\"dataframe\">\n",
       "  <thead>\n",
       "    <tr style=\"text-align: right;\">\n",
       "      <th></th>\n",
       "      <th>date</th>\n",
       "      <th>station_id</th>\n",
       "      <th>count_rental_ids</th>\n",
       "    </tr>\n",
       "  </thead>\n",
       "  <tbody>\n",
       "    <tr>\n",
       "      <th>21231842</th>\n",
       "      <td>2016-08-04</td>\n",
       "      <td>225.0</td>\n",
       "      <td>3</td>\n",
       "    </tr>\n",
       "    <tr>\n",
       "      <th>21231845</th>\n",
       "      <td>2015-08-08</td>\n",
       "      <td>584.0</td>\n",
       "      <td>3</td>\n",
       "    </tr>\n",
       "    <tr>\n",
       "      <th>21231852</th>\n",
       "      <td>2016-08-17</td>\n",
       "      <td>154.0</td>\n",
       "      <td>3</td>\n",
       "    </tr>\n",
       "    <tr>\n",
       "      <th>21231854</th>\n",
       "      <td>2015-08-22</td>\n",
       "      <td>404.0</td>\n",
       "      <td>3</td>\n",
       "    </tr>\n",
       "    <tr>\n",
       "      <th>21231862</th>\n",
       "      <td>2016-08-28</td>\n",
       "      <td>191.0</td>\n",
       "      <td>3</td>\n",
       "    </tr>\n",
       "  </tbody>\n",
       "</table>\n",
       "</div>"
      ],
      "text/plain": [
       "               date  station_id  count_rental_ids\n",
       "21231842 2016-08-04       225.0                 3\n",
       "21231845 2015-08-08       584.0                 3\n",
       "21231852 2016-08-17       154.0                 3\n",
       "21231854 2015-08-22       404.0                 3\n",
       "21231862 2016-08-28       191.0                 3"
      ]
     },
     "execution_count": 30,
     "metadata": {},
     "output_type": "execute_result"
    }
   ],
   "source": [
    "end_stations_peak.tail()"
   ]
  },
  {
   "cell_type": "code",
   "execution_count": null,
   "metadata": {},
   "outputs": [],
   "source": [
    "# We will now need to create a common key to associate and join both tables"
   ]
  },
  {
   "cell_type": "code",
   "execution_count": null,
   "metadata": {},
   "outputs": [],
   "source": [
    "# Let´s first convert date to string"
   ]
  },
  {
   "cell_type": "code",
   "execution_count": 31,
   "metadata": {},
   "outputs": [],
   "source": [
    "start_stations_peak['date_str'] = start_stations_peak['date'].astype(str)"
   ]
  },
  {
   "cell_type": "code",
   "execution_count": 33,
   "metadata": {},
   "outputs": [],
   "source": [
    "start_stations_peak['station_id'] = start_stations_peak['station_id'].astype(str)"
   ]
  },
  {
   "cell_type": "code",
   "execution_count": 34,
   "metadata": {},
   "outputs": [],
   "source": [
    "start_stations_peak['date_station'] = start_stations_peak['date_str']+'_'+start_stations_peak['station_id']"
   ]
  },
  {
   "cell_type": "code",
   "execution_count": 35,
   "metadata": {},
   "outputs": [
    {
     "data": {
      "text/html": [
       "<div>\n",
       "<style scoped>\n",
       "    .dataframe tbody tr th:only-of-type {\n",
       "        vertical-align: middle;\n",
       "    }\n",
       "\n",
       "    .dataframe tbody tr th {\n",
       "        vertical-align: top;\n",
       "    }\n",
       "\n",
       "    .dataframe thead th {\n",
       "        text-align: right;\n",
       "    }\n",
       "</style>\n",
       "<table border=\"1\" class=\"dataframe\">\n",
       "  <thead>\n",
       "    <tr style=\"text-align: right;\">\n",
       "      <th></th>\n",
       "      <th>date</th>\n",
       "      <th>station_id</th>\n",
       "      <th>count_rental_ids</th>\n",
       "      <th>date_str</th>\n",
       "      <th>date_station</th>\n",
       "    </tr>\n",
       "  </thead>\n",
       "  <tbody>\n",
       "    <tr>\n",
       "      <th>1</th>\n",
       "      <td>2015-07-30</td>\n",
       "      <td>242.0</td>\n",
       "      <td>6</td>\n",
       "      <td>2015-07-30</td>\n",
       "      <td>2015-07-30_242.0</td>\n",
       "    </tr>\n",
       "    <tr>\n",
       "      <th>4</th>\n",
       "      <td>2015-07-23</td>\n",
       "      <td>407.0</td>\n",
       "      <td>5</td>\n",
       "      <td>2015-07-23</td>\n",
       "      <td>2015-07-23_407.0</td>\n",
       "    </tr>\n",
       "    <tr>\n",
       "      <th>7</th>\n",
       "      <td>2015-07-28</td>\n",
       "      <td>154.0</td>\n",
       "      <td>4</td>\n",
       "      <td>2015-07-28</td>\n",
       "      <td>2015-07-28_154.0</td>\n",
       "    </tr>\n",
       "    <tr>\n",
       "      <th>9</th>\n",
       "      <td>2015-07-25</td>\n",
       "      <td>462.0</td>\n",
       "      <td>4</td>\n",
       "      <td>2015-07-25</td>\n",
       "      <td>2015-07-25_462.0</td>\n",
       "    </tr>\n",
       "    <tr>\n",
       "      <th>17</th>\n",
       "      <td>2016-07-10</td>\n",
       "      <td>553.0</td>\n",
       "      <td>4</td>\n",
       "      <td>2016-07-10</td>\n",
       "      <td>2016-07-10_553.0</td>\n",
       "    </tr>\n",
       "  </tbody>\n",
       "</table>\n",
       "</div>"
      ],
      "text/plain": [
       "         date station_id  count_rental_ids    date_str      date_station\n",
       "1  2015-07-30      242.0                 6  2015-07-30  2015-07-30_242.0\n",
       "4  2015-07-23      407.0                 5  2015-07-23  2015-07-23_407.0\n",
       "7  2015-07-28      154.0                 4  2015-07-28  2015-07-28_154.0\n",
       "9  2015-07-25      462.0                 4  2015-07-25  2015-07-25_462.0\n",
       "17 2016-07-10      553.0                 4  2016-07-10  2016-07-10_553.0"
      ]
     },
     "execution_count": 35,
     "metadata": {},
     "output_type": "execute_result"
    }
   ],
   "source": [
    "start_stations_peak.head()"
   ]
  },
  {
   "cell_type": "code",
   "execution_count": 36,
   "metadata": {},
   "outputs": [],
   "source": [
    "# Let´s now do it for the end_peak data"
   ]
  },
  {
   "cell_type": "code",
   "execution_count": 37,
   "metadata": {},
   "outputs": [],
   "source": [
    "end_stations_peak['date_str'] = end_stations_peak['date'].astype(str)"
   ]
  },
  {
   "cell_type": "code",
   "execution_count": 38,
   "metadata": {},
   "outputs": [],
   "source": [
    "end_stations_peak['station_id'] = end_stations_peak['station_id'].astype(str)"
   ]
  },
  {
   "cell_type": "code",
   "execution_count": 39,
   "metadata": {
    "scrolled": true
   },
   "outputs": [],
   "source": [
    "end_stations_peak['date_station'] = end_stations_peak['date_str']+'_'+end_stations_peak['station_id']"
   ]
  },
  {
   "cell_type": "code",
   "execution_count": 40,
   "metadata": {},
   "outputs": [
    {
     "data": {
      "text/html": [
       "<div>\n",
       "<style scoped>\n",
       "    .dataframe tbody tr th:only-of-type {\n",
       "        vertical-align: middle;\n",
       "    }\n",
       "\n",
       "    .dataframe tbody tr th {\n",
       "        vertical-align: top;\n",
       "    }\n",
       "\n",
       "    .dataframe thead th {\n",
       "        text-align: right;\n",
       "    }\n",
       "</style>\n",
       "<table border=\"1\" class=\"dataframe\">\n",
       "  <thead>\n",
       "    <tr style=\"text-align: right;\">\n",
       "      <th></th>\n",
       "      <th>date</th>\n",
       "      <th>station_id</th>\n",
       "      <th>count_rental_ids</th>\n",
       "      <th>date_str</th>\n",
       "      <th>date_station</th>\n",
       "    </tr>\n",
       "  </thead>\n",
       "  <tbody>\n",
       "    <tr>\n",
       "      <th>10</th>\n",
       "      <td>2016-07-24</td>\n",
       "      <td>419.0</td>\n",
       "      <td>4</td>\n",
       "      <td>2016-07-24</td>\n",
       "      <td>2016-07-24_419.0</td>\n",
       "    </tr>\n",
       "    <tr>\n",
       "      <th>13</th>\n",
       "      <td>2016-07-13</td>\n",
       "      <td>215.0</td>\n",
       "      <td>4</td>\n",
       "      <td>2016-07-13</td>\n",
       "      <td>2016-07-13_215.0</td>\n",
       "    </tr>\n",
       "    <tr>\n",
       "      <th>26</th>\n",
       "      <td>2016-07-21</td>\n",
       "      <td>71.0</td>\n",
       "      <td>4</td>\n",
       "      <td>2016-07-21</td>\n",
       "      <td>2016-07-21_71.0</td>\n",
       "    </tr>\n",
       "    <tr>\n",
       "      <th>41</th>\n",
       "      <td>2015-07-30</td>\n",
       "      <td>307.0</td>\n",
       "      <td>4</td>\n",
       "      <td>2015-07-30</td>\n",
       "      <td>2015-07-30_307.0</td>\n",
       "    </tr>\n",
       "    <tr>\n",
       "      <th>48</th>\n",
       "      <td>2016-07-24</td>\n",
       "      <td>800.0</td>\n",
       "      <td>4</td>\n",
       "      <td>2016-07-24</td>\n",
       "      <td>2016-07-24_800.0</td>\n",
       "    </tr>\n",
       "  </tbody>\n",
       "</table>\n",
       "</div>"
      ],
      "text/plain": [
       "         date station_id  count_rental_ids    date_str      date_station\n",
       "10 2016-07-24      419.0                 4  2016-07-24  2016-07-24_419.0\n",
       "13 2016-07-13      215.0                 4  2016-07-13  2016-07-13_215.0\n",
       "26 2016-07-21       71.0                 4  2016-07-21   2016-07-21_71.0\n",
       "41 2015-07-30      307.0                 4  2015-07-30  2015-07-30_307.0\n",
       "48 2016-07-24      800.0                 4  2016-07-24  2016-07-24_800.0"
      ]
     },
     "execution_count": 40,
     "metadata": {},
     "output_type": "execute_result"
    }
   ],
   "source": [
    "end_stations_peak.head()"
   ]
  },
  {
   "cell_type": "code",
   "execution_count": null,
   "metadata": {},
   "outputs": [],
   "source": []
  },
  {
   "cell_type": "code",
   "execution_count": null,
   "metadata": {},
   "outputs": [],
   "source": [
    "# We will now join both tables by the common key date_station"
   ]
  },
  {
   "cell_type": "code",
   "execution_count": 41,
   "metadata": {},
   "outputs": [],
   "source": [
    "touchpoints_by_stations = pd.merge(start_stations_peak,end_stations_peak, on=\"date_station\")"
   ]
  },
  {
   "cell_type": "code",
   "execution_count": 49,
   "metadata": {},
   "outputs": [
    {
     "data": {
      "text/html": [
       "<div>\n",
       "<style scoped>\n",
       "    .dataframe tbody tr th:only-of-type {\n",
       "        vertical-align: middle;\n",
       "    }\n",
       "\n",
       "    .dataframe tbody tr th {\n",
       "        vertical-align: top;\n",
       "    }\n",
       "\n",
       "    .dataframe thead th {\n",
       "        text-align: right;\n",
       "    }\n",
       "</style>\n",
       "<table border=\"1\" class=\"dataframe\">\n",
       "  <thead>\n",
       "    <tr style=\"text-align: right;\">\n",
       "      <th></th>\n",
       "      <th>date_x</th>\n",
       "      <th>station_id_x</th>\n",
       "      <th>count_rental_ids_x</th>\n",
       "      <th>date_str_x</th>\n",
       "      <th>date_station</th>\n",
       "      <th>date_y</th>\n",
       "      <th>station_id_y</th>\n",
       "      <th>count_rental_ids_y</th>\n",
       "      <th>date_str_y</th>\n",
       "    </tr>\n",
       "  </thead>\n",
       "  <tbody>\n",
       "    <tr>\n",
       "      <th>253842200</th>\n",
       "      <td>2016-08-26</td>\n",
       "      <td>608.0</td>\n",
       "      <td>2</td>\n",
       "      <td>2016-08-26</td>\n",
       "      <td>2016-08-26_608.0</td>\n",
       "      <td>2016-08-26</td>\n",
       "      <td>608.0</td>\n",
       "      <td>1</td>\n",
       "      <td>2016-08-26</td>\n",
       "    </tr>\n",
       "    <tr>\n",
       "      <th>253842201</th>\n",
       "      <td>2016-08-26</td>\n",
       "      <td>608.0</td>\n",
       "      <td>2</td>\n",
       "      <td>2016-08-26</td>\n",
       "      <td>2016-08-26_608.0</td>\n",
       "      <td>2016-08-26</td>\n",
       "      <td>608.0</td>\n",
       "      <td>1</td>\n",
       "      <td>2016-08-26</td>\n",
       "    </tr>\n",
       "    <tr>\n",
       "      <th>253842202</th>\n",
       "      <td>2016-08-26</td>\n",
       "      <td>608.0</td>\n",
       "      <td>2</td>\n",
       "      <td>2016-08-26</td>\n",
       "      <td>2016-08-26_608.0</td>\n",
       "      <td>2016-08-26</td>\n",
       "      <td>608.0</td>\n",
       "      <td>1</td>\n",
       "      <td>2016-08-26</td>\n",
       "    </tr>\n",
       "    <tr>\n",
       "      <th>253842203</th>\n",
       "      <td>2016-08-26</td>\n",
       "      <td>608.0</td>\n",
       "      <td>2</td>\n",
       "      <td>2016-08-26</td>\n",
       "      <td>2016-08-26_608.0</td>\n",
       "      <td>2016-08-26</td>\n",
       "      <td>608.0</td>\n",
       "      <td>1</td>\n",
       "      <td>2016-08-26</td>\n",
       "    </tr>\n",
       "    <tr>\n",
       "      <th>253842204</th>\n",
       "      <td>2016-08-26</td>\n",
       "      <td>608.0</td>\n",
       "      <td>2</td>\n",
       "      <td>2016-08-26</td>\n",
       "      <td>2016-08-26_608.0</td>\n",
       "      <td>2016-08-26</td>\n",
       "      <td>608.0</td>\n",
       "      <td>2</td>\n",
       "      <td>2016-08-26</td>\n",
       "    </tr>\n",
       "  </tbody>\n",
       "</table>\n",
       "</div>"
      ],
      "text/plain": [
       "              date_x station_id_x  count_rental_ids_x  date_str_x  \\\n",
       "253842200 2016-08-26        608.0                   2  2016-08-26   \n",
       "253842201 2016-08-26        608.0                   2  2016-08-26   \n",
       "253842202 2016-08-26        608.0                   2  2016-08-26   \n",
       "253842203 2016-08-26        608.0                   2  2016-08-26   \n",
       "253842204 2016-08-26        608.0                   2  2016-08-26   \n",
       "\n",
       "               date_station     date_y station_id_y  count_rental_ids_y  \\\n",
       "253842200  2016-08-26_608.0 2016-08-26        608.0                   1   \n",
       "253842201  2016-08-26_608.0 2016-08-26        608.0                   1   \n",
       "253842202  2016-08-26_608.0 2016-08-26        608.0                   1   \n",
       "253842203  2016-08-26_608.0 2016-08-26        608.0                   1   \n",
       "253842204  2016-08-26_608.0 2016-08-26        608.0                   2   \n",
       "\n",
       "           date_str_y  \n",
       "253842200  2016-08-26  \n",
       "253842201  2016-08-26  \n",
       "253842202  2016-08-26  \n",
       "253842203  2016-08-26  \n",
       "253842204  2016-08-26  "
      ]
     },
     "execution_count": 49,
     "metadata": {},
     "output_type": "execute_result"
    }
   ],
   "source": [
    "touchpoints_by_stations.tail()"
   ]
  },
  {
   "cell_type": "code",
   "execution_count": 51,
   "metadata": {},
   "outputs": [],
   "source": [
    "touchpoints_by_stations_bydate = touchpoints_by_stations.drop(['date_str_x','date_station','date_y','date_str_y','station_id_y'],axis =1)"
   ]
  },
  {
   "cell_type": "code",
   "execution_count": 47,
   "metadata": {},
   "outputs": [
    {
     "data": {
      "text/html": [
       "<div>\n",
       "<style scoped>\n",
       "    .dataframe tbody tr th:only-of-type {\n",
       "        vertical-align: middle;\n",
       "    }\n",
       "\n",
       "    .dataframe tbody tr th {\n",
       "        vertical-align: top;\n",
       "    }\n",
       "\n",
       "    .dataframe thead th {\n",
       "        text-align: right;\n",
       "    }\n",
       "</style>\n",
       "<table border=\"1\" class=\"dataframe\">\n",
       "  <thead>\n",
       "    <tr style=\"text-align: right;\">\n",
       "      <th></th>\n",
       "      <th>date_x</th>\n",
       "      <th>station_id_x</th>\n",
       "      <th>count_rental_ids_x</th>\n",
       "      <th>station_id_y</th>\n",
       "      <th>count_rental_ids_y</th>\n",
       "    </tr>\n",
       "  </thead>\n",
       "  <tbody>\n",
       "    <tr>\n",
       "      <th>253842200</th>\n",
       "      <td>2016-08-26</td>\n",
       "      <td>608.0</td>\n",
       "      <td>2</td>\n",
       "      <td>608.0</td>\n",
       "      <td>1</td>\n",
       "    </tr>\n",
       "    <tr>\n",
       "      <th>253842201</th>\n",
       "      <td>2016-08-26</td>\n",
       "      <td>608.0</td>\n",
       "      <td>2</td>\n",
       "      <td>608.0</td>\n",
       "      <td>1</td>\n",
       "    </tr>\n",
       "    <tr>\n",
       "      <th>253842202</th>\n",
       "      <td>2016-08-26</td>\n",
       "      <td>608.0</td>\n",
       "      <td>2</td>\n",
       "      <td>608.0</td>\n",
       "      <td>1</td>\n",
       "    </tr>\n",
       "    <tr>\n",
       "      <th>253842203</th>\n",
       "      <td>2016-08-26</td>\n",
       "      <td>608.0</td>\n",
       "      <td>2</td>\n",
       "      <td>608.0</td>\n",
       "      <td>1</td>\n",
       "    </tr>\n",
       "    <tr>\n",
       "      <th>253842204</th>\n",
       "      <td>2016-08-26</td>\n",
       "      <td>608.0</td>\n",
       "      <td>2</td>\n",
       "      <td>608.0</td>\n",
       "      <td>2</td>\n",
       "    </tr>\n",
       "  </tbody>\n",
       "</table>\n",
       "</div>"
      ],
      "text/plain": [
       "              date_x station_id_x  count_rental_ids_x station_id_y  \\\n",
       "253842200 2016-08-26        608.0                   2        608.0   \n",
       "253842201 2016-08-26        608.0                   2        608.0   \n",
       "253842202 2016-08-26        608.0                   2        608.0   \n",
       "253842203 2016-08-26        608.0                   2        608.0   \n",
       "253842204 2016-08-26        608.0                   2        608.0   \n",
       "\n",
       "           count_rental_ids_y  \n",
       "253842200                   1  \n",
       "253842201                   1  \n",
       "253842202                   1  \n",
       "253842203                   1  \n",
       "253842204                   2  "
      ]
     },
     "execution_count": 47,
     "metadata": {},
     "output_type": "execute_result"
    }
   ],
   "source": [
    "touchpoints_by_stations_bydate.tail()"
   ]
  },
  {
   "cell_type": "code",
   "execution_count": 52,
   "metadata": {},
   "outputs": [],
   "source": [
    "touchpoints_by_stations_bydate['total_touchpoints'] = touchpoints_by_stations_bydate ['count_rental_ids_x']+touchpoints_by_stations_bydate ['count_rental_ids_y']"
   ]
  },
  {
   "cell_type": "code",
   "execution_count": 75,
   "metadata": {},
   "outputs": [
    {
     "data": {
      "text/html": [
       "<div>\n",
       "<style scoped>\n",
       "    .dataframe tbody tr th:only-of-type {\n",
       "        vertical-align: middle;\n",
       "    }\n",
       "\n",
       "    .dataframe tbody tr th {\n",
       "        vertical-align: top;\n",
       "    }\n",
       "\n",
       "    .dataframe thead th {\n",
       "        text-align: right;\n",
       "    }\n",
       "</style>\n",
       "<table border=\"1\" class=\"dataframe\">\n",
       "  <thead>\n",
       "    <tr style=\"text-align: right;\">\n",
       "      <th></th>\n",
       "      <th>date_x</th>\n",
       "      <th>station_id_x</th>\n",
       "      <th>count_rental_ids_x</th>\n",
       "      <th>count_rental_ids_y</th>\n",
       "      <th>total_touchpoints</th>\n",
       "    </tr>\n",
       "  </thead>\n",
       "  <tbody>\n",
       "    <tr>\n",
       "      <th>253842200</th>\n",
       "      <td>2016-08-26</td>\n",
       "      <td>608.0</td>\n",
       "      <td>2</td>\n",
       "      <td>1</td>\n",
       "      <td>3</td>\n",
       "    </tr>\n",
       "    <tr>\n",
       "      <th>253842201</th>\n",
       "      <td>2016-08-26</td>\n",
       "      <td>608.0</td>\n",
       "      <td>2</td>\n",
       "      <td>1</td>\n",
       "      <td>3</td>\n",
       "    </tr>\n",
       "    <tr>\n",
       "      <th>253842202</th>\n",
       "      <td>2016-08-26</td>\n",
       "      <td>608.0</td>\n",
       "      <td>2</td>\n",
       "      <td>1</td>\n",
       "      <td>3</td>\n",
       "    </tr>\n",
       "    <tr>\n",
       "      <th>253842203</th>\n",
       "      <td>2016-08-26</td>\n",
       "      <td>608.0</td>\n",
       "      <td>2</td>\n",
       "      <td>1</td>\n",
       "      <td>3</td>\n",
       "    </tr>\n",
       "    <tr>\n",
       "      <th>253842204</th>\n",
       "      <td>2016-08-26</td>\n",
       "      <td>608.0</td>\n",
       "      <td>2</td>\n",
       "      <td>2</td>\n",
       "      <td>4</td>\n",
       "    </tr>\n",
       "  </tbody>\n",
       "</table>\n",
       "</div>"
      ],
      "text/plain": [
       "              date_x station_id_x  count_rental_ids_x  count_rental_ids_y  \\\n",
       "253842200 2016-08-26        608.0                   2                   1   \n",
       "253842201 2016-08-26        608.0                   2                   1   \n",
       "253842202 2016-08-26        608.0                   2                   1   \n",
       "253842203 2016-08-26        608.0                   2                   1   \n",
       "253842204 2016-08-26        608.0                   2                   2   \n",
       "\n",
       "           total_touchpoints  \n",
       "253842200                  3  \n",
       "253842201                  3  \n",
       "253842202                  3  \n",
       "253842203                  3  \n",
       "253842204                  4  "
      ]
     },
     "execution_count": 75,
     "metadata": {},
     "output_type": "execute_result"
    }
   ],
   "source": [
    "touchpoints_by_stations_bydate.tail()"
   ]
  },
  {
   "cell_type": "code",
   "execution_count": 79,
   "metadata": {},
   "outputs": [
    {
     "name": "stdout",
     "output_type": "stream",
     "text": [
      "There are 124 distinct dates in our dataset\n"
     ]
    }
   ],
   "source": [
    "print(\"There are\", touchpoints_by_stations_bydate['date_x'].nunique(),\"distinct dates in our dataset\")"
   ]
  },
  {
   "cell_type": "code",
   "execution_count": 54,
   "metadata": {},
   "outputs": [],
   "source": [
    "touchpoints_by_stations_f =touchpoints_by_stations_bydate.groupby(['station_id_x']).sum()"
   ]
  },
  {
   "cell_type": "code",
   "execution_count": 55,
   "metadata": {
    "scrolled": true
   },
   "outputs": [
    {
     "data": {
      "text/html": [
       "<div>\n",
       "<style scoped>\n",
       "    .dataframe tbody tr th:only-of-type {\n",
       "        vertical-align: middle;\n",
       "    }\n",
       "\n",
       "    .dataframe tbody tr th {\n",
       "        vertical-align: top;\n",
       "    }\n",
       "\n",
       "    .dataframe thead th {\n",
       "        text-align: right;\n",
       "    }\n",
       "</style>\n",
       "<table border=\"1\" class=\"dataframe\">\n",
       "  <thead>\n",
       "    <tr style=\"text-align: right;\">\n",
       "      <th></th>\n",
       "      <th>count_rental_ids_x</th>\n",
       "      <th>count_rental_ids_y</th>\n",
       "      <th>total_touchpoints</th>\n",
       "    </tr>\n",
       "    <tr>\n",
       "      <th>station_id_x</th>\n",
       "      <th></th>\n",
       "      <th></th>\n",
       "      <th></th>\n",
       "    </tr>\n",
       "  </thead>\n",
       "  <tbody>\n",
       "    <tr>\n",
       "      <th>1.0</th>\n",
       "      <td>63392</td>\n",
       "      <td>63478</td>\n",
       "      <td>126870</td>\n",
       "    </tr>\n",
       "    <tr>\n",
       "      <th>10.0</th>\n",
       "      <td>192466</td>\n",
       "      <td>191429</td>\n",
       "      <td>383895</td>\n",
       "    </tr>\n",
       "    <tr>\n",
       "      <th>100.0</th>\n",
       "      <td>173146</td>\n",
       "      <td>169137</td>\n",
       "      <td>342283</td>\n",
       "    </tr>\n",
       "    <tr>\n",
       "      <th>101.0</th>\n",
       "      <td>2079642</td>\n",
       "      <td>2070583</td>\n",
       "      <td>4150225</td>\n",
       "    </tr>\n",
       "    <tr>\n",
       "      <th>102.0</th>\n",
       "      <td>266928</td>\n",
       "      <td>267072</td>\n",
       "      <td>534000</td>\n",
       "    </tr>\n",
       "  </tbody>\n",
       "</table>\n",
       "</div>"
      ],
      "text/plain": [
       "              count_rental_ids_x  count_rental_ids_y  total_touchpoints\n",
       "station_id_x                                                           \n",
       "1.0                        63392               63478             126870\n",
       "10.0                      192466              191429             383895\n",
       "100.0                     173146              169137             342283\n",
       "101.0                    2079642             2070583            4150225\n",
       "102.0                     266928              267072             534000"
      ]
     },
     "execution_count": 55,
     "metadata": {},
     "output_type": "execute_result"
    }
   ],
   "source": [
    "touchpoints_by_stations_f.head()"
   ]
  },
  {
   "cell_type": "code",
   "execution_count": 57,
   "metadata": {},
   "outputs": [
    {
     "data": {
      "text/html": [
       "<div>\n",
       "<style scoped>\n",
       "    .dataframe tbody tr th:only-of-type {\n",
       "        vertical-align: middle;\n",
       "    }\n",
       "\n",
       "    .dataframe tbody tr th {\n",
       "        vertical-align: top;\n",
       "    }\n",
       "\n",
       "    .dataframe thead th {\n",
       "        text-align: right;\n",
       "    }\n",
       "</style>\n",
       "<table border=\"1\" class=\"dataframe\">\n",
       "  <thead>\n",
       "    <tr style=\"text-align: right;\">\n",
       "      <th></th>\n",
       "      <th>count_rental_ids_x</th>\n",
       "      <th>count_rental_ids_y</th>\n",
       "      <th>total_touchpoints</th>\n",
       "    </tr>\n",
       "    <tr>\n",
       "      <th>station_id_x</th>\n",
       "      <th></th>\n",
       "      <th></th>\n",
       "      <th></th>\n",
       "    </tr>\n",
       "  </thead>\n",
       "  <tbody>\n",
       "    <tr>\n",
       "      <th>nan</th>\n",
       "      <td>53405340</td>\n",
       "      <td>53405340</td>\n",
       "      <td>106810680</td>\n",
       "    </tr>\n",
       "    <tr>\n",
       "      <th>191.0</th>\n",
       "      <td>13892304</td>\n",
       "      <td>14409523</td>\n",
       "      <td>28301827</td>\n",
       "    </tr>\n",
       "    <tr>\n",
       "      <th>303.0</th>\n",
       "      <td>9529073</td>\n",
       "      <td>9678536</td>\n",
       "      <td>19207609</td>\n",
       "    </tr>\n",
       "    <tr>\n",
       "      <th>307.0</th>\n",
       "      <td>8979267</td>\n",
       "      <td>9337855</td>\n",
       "      <td>18317122</td>\n",
       "    </tr>\n",
       "    <tr>\n",
       "      <th>14.0</th>\n",
       "      <td>8139785</td>\n",
       "      <td>7445153</td>\n",
       "      <td>15584938</td>\n",
       "    </tr>\n",
       "    <tr>\n",
       "      <th>...</th>\n",
       "      <td>...</td>\n",
       "      <td>...</td>\n",
       "      <td>...</td>\n",
       "    </tr>\n",
       "    <tr>\n",
       "      <th>502.0</th>\n",
       "      <td>1829</td>\n",
       "      <td>1824</td>\n",
       "      <td>3653</td>\n",
       "    </tr>\n",
       "    <tr>\n",
       "      <th>555.0</th>\n",
       "      <td>1606</td>\n",
       "      <td>1562</td>\n",
       "      <td>3168</td>\n",
       "    </tr>\n",
       "    <tr>\n",
       "      <th>346.0</th>\n",
       "      <td>27</td>\n",
       "      <td>27</td>\n",
       "      <td>54</td>\n",
       "    </tr>\n",
       "    <tr>\n",
       "      <th>241.0</th>\n",
       "      <td>10</td>\n",
       "      <td>10</td>\n",
       "      <td>20</td>\n",
       "    </tr>\n",
       "    <tr>\n",
       "      <th>778.0</th>\n",
       "      <td>2</td>\n",
       "      <td>2</td>\n",
       "      <td>4</td>\n",
       "    </tr>\n",
       "  </tbody>\n",
       "</table>\n",
       "<p>790 rows × 3 columns</p>\n",
       "</div>"
      ],
      "text/plain": [
       "              count_rental_ids_x  count_rental_ids_y  total_touchpoints\n",
       "station_id_x                                                           \n",
       "nan                     53405340            53405340          106810680\n",
       "191.0                   13892304            14409523           28301827\n",
       "303.0                    9529073             9678536           19207609\n",
       "307.0                    8979267             9337855           18317122\n",
       "14.0                     8139785             7445153           15584938\n",
       "...                          ...                 ...                ...\n",
       "502.0                       1829                1824               3653\n",
       "555.0                       1606                1562               3168\n",
       "346.0                         27                  27                 54\n",
       "241.0                         10                  10                 20\n",
       "778.0                          2                   2                  4\n",
       "\n",
       "[790 rows x 3 columns]"
      ]
     },
     "execution_count": 57,
     "metadata": {},
     "output_type": "execute_result"
    }
   ],
   "source": [
    "touchpoints_by_stations_f.sort_values(by=['total_touchpoints'], ascending=False)"
   ]
  },
  {
   "cell_type": "code",
   "execution_count": 59,
   "metadata": {},
   "outputs": [],
   "source": [
    "# let´s export the table to a csv\n",
    "touchpoints_by_stations_f.to_csv(r'/Users/anna/Desktop/AIRMET_CASE_ECHO/tableau_data/touchpoints_by_stations_f.csv')"
   ]
  }
 ],
 "metadata": {
  "kernelspec": {
   "display_name": "Python 3",
   "language": "python",
   "name": "python3"
  },
  "language_info": {
   "codemirror_mode": {
    "name": "ipython",
    "version": 3
   },
   "file_extension": ".py",
   "mimetype": "text/x-python",
   "name": "python",
   "nbconvert_exporter": "python",
   "pygments_lexer": "ipython3",
   "version": "3.8.1"
  }
 },
 "nbformat": 4,
 "nbformat_minor": 4
}
